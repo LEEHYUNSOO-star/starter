{
 "cells": [
  {
   "cell_type": "code",
   "execution_count": 9,
   "id": "158ab438-d7e4-49b7-bc81-e3b7317ed50a",
   "metadata": {},
   "outputs": [
    {
     "name": "stdout",
     "output_type": "stream",
     "text": [
      "[1, 4, 9, 16, 25]\n"
     ]
    }
   ],
   "source": [
    "#람다 함수를 사용하여 주어진 리스트의 모든 요소를 제곱하는 함수를 작성하세요.\n",
    "numbers = [1, 2, 3, 4, 5]\n",
    "x = list(map(lambda x: x**2, numbers))\n",
    "print(x)"
   ]
  },
  {
   "cell_type": "code",
   "execution_count": 15,
   "id": "70387049-0fb8-4cad-8ea7-499192deae86",
   "metadata": {},
   "outputs": [
    {
     "name": "stdout",
     "output_type": "stream",
     "text": [
      "[3, 3, 5]\n"
     ]
    }
   ],
   "source": [
    "#map() 함수와 람다 함수를 사용하여 문자열 리스트의 각 단어의 길이를 구하는 코드를 작성하세요.\n",
    "words = [\"one\",\"two\",\"three\"]\n",
    "x = list(map(lambda word: len(word), words))\n",
    "print(x)"
   ]
  },
  {
   "cell_type": "code",
   "execution_count": 17,
   "id": "dee0fbd1-b96d-4016-9a46-557fb1fa1a14",
   "metadata": {},
   "outputs": [
    {
     "name": "stdout",
     "output_type": "stream",
     "text": [
      "[2, 4, 6, 8, 10, 12, 14, 16, 18, 20]\n"
     ]
    }
   ],
   "source": [
    "#filter() 함수를 사용하여 1부터 20까지의 숫자 중 짝수만 선택하는 코드를 작성하세요.\n",
    "numbers = range(1, 21)\n",
    "two = list(filter(lambda x:x % 2 == 0, numbers))\n",
    "print(two)"
   ]
  },
  {
   "cell_type": "code",
   "execution_count": 21,
   "id": "986b05c7-b54c-4efd-921f-22a31da56d10",
   "metadata": {},
   "outputs": [
    {
     "name": "stdout",
     "output_type": "stream",
     "text": [
      "120\n"
     ]
    }
   ],
   "source": [
    "#reduce() 함수를 사용하여 리스트의 모든 요소를 곱하는 함수를 작성하세요.\n",
    "from functools import reduce\n",
    "numbers = [1, 2, 3, 4, 5]\n",
    "x = reduce(lambda x, y: x * y, numbers)\n",
    "print(x)"
   ]
  },
  {
   "cell_type": "code",
   "execution_count": 25,
   "id": "1cccdf28-247c-4954-bc63-c58b852e55c4",
   "metadata": {},
   "outputs": [
    {
     "name": "stdout",
     "output_type": "stream",
     "text": [
      "3628800\n"
     ]
    }
   ],
   "source": [
    "#재귀 함수를 사용하여 팩토리얼(n!)을 계산하는 함수 factorial을 작성하세요.\n",
    "def factorial(n):\n",
    "    if n == 0:\n",
    "        return 1\n",
    "    else:\n",
    "        return n * factorial(n-1)\n",
    "print(factorial(10))"
   ]
  },
  {
   "cell_type": "code",
   "execution_count": 41,
   "id": "dc52a568-3246-4067-b77e-48641aae03e7",
   "metadata": {},
   "outputs": [
    {
     "name": "stdout",
     "output_type": "stream",
     "text": [
      "{' ': 1, '!': 1, ',': 1, 'H': 1, 'd': 1, 'e': 1, 'l': 3, 'o': 2, 'r': 1, 'w': 1}\n",
      "실행 시간: 0.0 초\n"
     ]
    }
   ],
   "source": [
    "#데코레이터를 만들어 함수의 실행 시간을 측정하는 코드를 작성하세요.\n",
    "import time\n",
    "text = \"Hello, world!\"\n",
    "start_time = time.time() # 시작시간\n",
    "result = {i: text.count(i) for i in sorted(set(text))}  # 순서를 보장하기 위해 sorted 사용\n",
    "end_time = time.time() # 종료시간\n",
    "print(result)\n",
    "print(\"실행 시간:\", end_time - start_time, \"초\") # 시작시간 - 종료시간 계산"
   ]
  },
  {
   "cell_type": "code",
   "execution_count": 35,
   "id": "78ee3a74-3608-4fd6-9e4f-aac5cbe14801",
   "metadata": {},
   "outputs": [
    {
     "name": "stdout",
     "output_type": "stream",
     "text": [
      "저는 이현수라고 하고, 27살입니다. 잘 부탁드려요!\n"
     ]
    }
   ],
   "source": [
    "#'Person' 클래스를 정의하고, 이름과 나이를 속성으로 가지며, 자기 소개를 하는 메서드를 포함하세요.\n",
    "class Person:\n",
    "    def __init__(self, name, age):\n",
    "        self.name = name\n",
    "        self.age = age\n",
    "\n",
    "    def introduce(self):\n",
    "        print(f\"저는 {self.name}라고 하고, {self.age}살입니다. 잘 부탁드려요!\")\n",
    "\n",
    "x = Person(\"이현수\", 27)\n",
    "x.introduce()"
   ]
  },
  {
   "cell_type": "code",
   "execution_count": null,
   "id": "8ae203da-1f4e-4efe-bb16-aad9fa7b4924",
   "metadata": {},
   "outputs": [],
   "source": []
  },
  {
   "cell_type": "code",
   "execution_count": null,
   "id": "83275198-03e1-4f5b-b99f-08b43ab494ac",
   "metadata": {},
   "outputs": [],
   "source": []
  },
  {
   "cell_type": "code",
   "execution_count": null,
   "id": "3ce7b11a-abbb-435b-81f5-782e54d4a7a5",
   "metadata": {},
   "outputs": [],
   "source": []
  },
  {
   "cell_type": "code",
   "execution_count": null,
   "id": "5ba695db-7ffa-4157-891b-82d928cb0d11",
   "metadata": {},
   "outputs": [],
   "source": []
  },
  {
   "cell_type": "code",
   "execution_count": null,
   "id": "a8cb64c5-ab50-4ba6-8194-54ab8107b483",
   "metadata": {},
   "outputs": [],
   "source": []
  },
  {
   "cell_type": "code",
   "execution_count": null,
   "id": "489e2382-f568-451c-b6b9-96905cecda70",
   "metadata": {},
   "outputs": [],
   "source": []
  },
  {
   "cell_type": "code",
   "execution_count": null,
   "id": "f1b7f9e8-a871-4203-9f8b-99e4be26ec30",
   "metadata": {},
   "outputs": [],
   "source": []
  },
  {
   "cell_type": "code",
   "execution_count": null,
   "id": "677a42b7-e310-4d12-854a-624b863d36e7",
   "metadata": {},
   "outputs": [],
   "source": []
  },
  {
   "cell_type": "code",
   "execution_count": null,
   "id": "96658566-b52c-406a-bb2d-0399332da974",
   "metadata": {},
   "outputs": [],
   "source": []
  },
  {
   "cell_type": "code",
   "execution_count": null,
   "id": "a29efe87-8e05-4011-a263-1664f278be0b",
   "metadata": {},
   "outputs": [],
   "source": []
  },
  {
   "cell_type": "code",
   "execution_count": null,
   "id": "75f082e9-bde3-42c5-a774-75ed4a8d300d",
   "metadata": {},
   "outputs": [],
   "source": []
  },
  {
   "cell_type": "code",
   "execution_count": null,
   "id": "4138eaa5-26d1-4a84-a40f-c7d6b8eee601",
   "metadata": {},
   "outputs": [],
   "source": []
  },
  {
   "cell_type": "code",
   "execution_count": null,
   "id": "31e877a6-9169-42ad-80da-71f781073d17",
   "metadata": {},
   "outputs": [],
   "source": []
  },
  {
   "cell_type": "code",
   "execution_count": null,
   "id": "602fbf22-21b7-4ef9-bc02-cf5597ca84cb",
   "metadata": {},
   "outputs": [],
   "source": []
  },
  {
   "cell_type": "code",
   "execution_count": null,
   "id": "2b9b2b97-372a-4007-86a8-d856b0ba8966",
   "metadata": {},
   "outputs": [],
   "source": []
  },
  {
   "cell_type": "code",
   "execution_count": null,
   "id": "a2bbb035-3bb9-423c-8d61-386c79aefa03",
   "metadata": {},
   "outputs": [],
   "source": []
  },
  {
   "cell_type": "code",
   "execution_count": null,
   "id": "8194abaf-7e7d-4482-84b5-240e99894e35",
   "metadata": {},
   "outputs": [],
   "source": []
  },
  {
   "cell_type": "code",
   "execution_count": null,
   "id": "c4c0ba17-9e49-4ef5-b7ad-6f7a33206d4b",
   "metadata": {},
   "outputs": [],
   "source": []
  }
 ],
 "metadata": {
  "kernelspec": {
   "display_name": "Python 3 (ipykernel)",
   "language": "python",
   "name": "python3"
  },
  "language_info": {
   "codemirror_mode": {
    "name": "ipython",
    "version": 3
   },
   "file_extension": ".py",
   "mimetype": "text/x-python",
   "name": "python",
   "nbconvert_exporter": "python",
   "pygments_lexer": "ipython3",
   "version": "3.12.7"
  }
 },
 "nbformat": 4,
 "nbformat_minor": 5
}
